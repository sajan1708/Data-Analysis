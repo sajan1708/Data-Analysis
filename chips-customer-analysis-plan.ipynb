{
 "cells": [
  {
   "cell_type": "code",
   "execution_count": 1,
   "id": "f261cc70",
   "metadata": {
    "_cell_guid": "b1076dfc-b9ad-4769-8c92-a6c4dae69d19",
    "_uuid": "8f2839f25d086af736a60e9eeb907d3b93b6e0e5",
    "execution": {
     "iopub.execute_input": "2024-10-05T20:14:19.486909Z",
     "iopub.status.busy": "2024-10-05T20:14:19.486474Z",
     "iopub.status.idle": "2024-10-05T20:14:22.078673Z",
     "shell.execute_reply": "2024-10-05T20:14:22.077493Z"
    },
    "papermill": {
     "duration": 2.602977,
     "end_time": "2024-10-05T20:14:22.081212",
     "exception": false,
     "start_time": "2024-10-05T20:14:19.478235",
     "status": "completed"
    },
    "tags": []
   },
   "outputs": [
    {
     "name": "stdout",
     "output_type": "stream",
     "text": [
      "/kaggle/input/chips-customer-analysis-plan-forage/QVI_purchase_behaviour.csv\n",
      "/kaggle/input/chips-customer-analysis-plan-forage/QVI_transaction_data.csv\n"
     ]
    }
   ],
   "source": [
    "# This Python 3 environment comes with many helpful analytics libraries installed\n",
    "# It is defined by the kaggle/python Docker image: https://github.com/kaggle/docker-python\n",
    "# For example, here's several helpful packages to load\n",
    "\n",
    "import numpy as np # linear algebra\n",
    "import pandas as pd # data processing, CSV file I/O (e.g. pd.read_csv)\n",
    "import matplotlib.pyplot as plt\n",
    "import seaborn as sns\n",
    "\n",
    "# Input data files are available in the read-only \"../input/\" directory\n",
    "# For example, running this (by clicking run or pressing Shift+Enter) will list all files under the input directory\n",
    "\n",
    "import os\n",
    "for dirname, _, filenames in os.walk('/kaggle/input'):\n",
    "    for filename in filenames:\n",
    "        print(os.path.join(dirname, filename))\n",
    "\n",
    "# You can write up to 20GB to the current directory (/kaggle/working/) that gets preserved as output when you create a version using \"Save & Run All\" \n",
    "# You can also write temporary files to /kaggle/temp/, but they won't be saved outside of the current session"
   ]
  },
  {
   "cell_type": "code",
   "execution_count": 2,
   "id": "093e8116",
   "metadata": {
    "execution": {
     "iopub.execute_input": "2024-10-05T20:14:22.095713Z",
     "iopub.status.busy": "2024-10-05T20:14:22.095171Z",
     "iopub.status.idle": "2024-10-05T20:14:22.624205Z",
     "shell.execute_reply": "2024-10-05T20:14:22.623102Z"
    },
    "papermill": {
     "duration": 0.538935,
     "end_time": "2024-10-05T20:14:22.626835",
     "exception": false,
     "start_time": "2024-10-05T20:14:22.087900",
     "status": "completed"
    },
    "tags": []
   },
   "outputs": [],
   "source": [
    "# Load datasets\n",
    "\n",
    "#filePath = \"/kaggle/input/forage-chips-customer-analysis-plan/\"\n",
    "#transactionData = pd.read_csv(f\"{filePath}QVI_transaction_data.csv\")\n",
    "#customerData = pd.read_csv(f\"{filePath}QVI_purchase_behaviour.csv\")\n",
    "\n",
    "transactionData = pd.read_csv('/kaggle/input/chips-customer-analysis-plan-forage/QVI_transaction_data.csv')\n",
    "customerData = pd.read_csv('/kaggle/input/chips-customer-analysis-plan-forage/QVI_purchase_behaviour.csv')\n"
   ]
  },
  {
   "cell_type": "code",
   "execution_count": 3,
   "id": "e48b3801",
   "metadata": {
    "execution": {
     "iopub.execute_input": "2024-10-05T20:14:22.640872Z",
     "iopub.status.busy": "2024-10-05T20:14:22.640410Z",
     "iopub.status.idle": "2024-10-05T20:14:22.684775Z",
     "shell.execute_reply": "2024-10-05T20:14:22.683546Z"
    },
    "papermill": {
     "duration": 0.054225,
     "end_time": "2024-10-05T20:14:22.687224",
     "exception": false,
     "start_time": "2024-10-05T20:14:22.632999",
     "status": "completed"
    },
    "tags": []
   },
   "outputs": [
    {
     "name": "stdout",
     "output_type": "stream",
     "text": [
      "<class 'pandas.core.frame.DataFrame'>\n",
      "RangeIndex: 264836 entries, 0 to 264835\n",
      "Data columns (total 8 columns):\n",
      " #   Column          Non-Null Count   Dtype  \n",
      "---  ------          --------------   -----  \n",
      " 0   DATE            264836 non-null  int64  \n",
      " 1   STORE_NBR       264836 non-null  int64  \n",
      " 2   LYLTY_CARD_NBR  264836 non-null  int64  \n",
      " 3   TXN_ID          264836 non-null  int64  \n",
      " 4   PROD_NBR        264836 non-null  int64  \n",
      " 5   PROD_NAME       264836 non-null  object \n",
      " 6   PROD_QTY        264836 non-null  int64  \n",
      " 7   TOT_SALES       264836 non-null  float64\n",
      "dtypes: float64(1), int64(6), object(1)\n",
      "memory usage: 16.2+ MB\n"
     ]
    }
   ],
   "source": [
    "transactionData.info()"
   ]
  },
  {
   "cell_type": "code",
   "execution_count": 4,
   "id": "e4151926",
   "metadata": {
    "execution": {
     "iopub.execute_input": "2024-10-05T20:14:22.701241Z",
     "iopub.status.busy": "2024-10-05T20:14:22.700783Z",
     "iopub.status.idle": "2024-10-05T20:14:22.719316Z",
     "shell.execute_reply": "2024-10-05T20:14:22.718009Z"
    },
    "papermill": {
     "duration": 0.028842,
     "end_time": "2024-10-05T20:14:22.722220",
     "exception": false,
     "start_time": "2024-10-05T20:14:22.693378",
     "status": "completed"
    },
    "tags": []
   },
   "outputs": [
    {
     "name": "stdout",
     "output_type": "stream",
     "text": [
      "<class 'pandas.core.frame.DataFrame'>\n",
      "RangeIndex: 72637 entries, 0 to 72636\n",
      "Data columns (total 3 columns):\n",
      " #   Column            Non-Null Count  Dtype \n",
      "---  ------            --------------  ----- \n",
      " 0   LYLTY_CARD_NBR    72637 non-null  int64 \n",
      " 1   LIFESTAGE         72637 non-null  object\n",
      " 2   PREMIUM_CUSTOMER  72637 non-null  object\n",
      "dtypes: int64(1), object(2)\n",
      "memory usage: 1.7+ MB\n"
     ]
    }
   ],
   "source": [
    "customerData.info()"
   ]
  },
  {
   "cell_type": "code",
   "execution_count": 5,
   "id": "4ad10bfc",
   "metadata": {
    "execution": {
     "iopub.execute_input": "2024-10-05T20:14:22.736861Z",
     "iopub.status.busy": "2024-10-05T20:14:22.736456Z",
     "iopub.status.idle": "2024-10-05T20:14:22.754464Z",
     "shell.execute_reply": "2024-10-05T20:14:22.753235Z"
    },
    "papermill": {
     "duration": 0.028152,
     "end_time": "2024-10-05T20:14:22.757123",
     "exception": false,
     "start_time": "2024-10-05T20:14:22.728971",
     "status": "completed"
    },
    "tags": []
   },
   "outputs": [
    {
     "data": {
      "text/plain": [
       "(    DATE  STORE_NBR  LYLTY_CARD_NBR  TXN_ID  PROD_NBR  \\\n",
       " 0  43390          1            1000       1         5   \n",
       " 1  43599          1            1307     348        66   \n",
       " 2  43605          1            1343     383        61   \n",
       " 3  43329          2            2373     974        69   \n",
       " 4  43330          2            2426    1038       108   \n",
       " \n",
       "                                   PROD_NAME  PROD_QTY  TOT_SALES  \n",
       " 0    Natural Chip        Compny SeaSalt175g         2        6.0  \n",
       " 1                  CCs Nacho Cheese    175g         3        6.3  \n",
       " 2    Smiths Crinkle Cut  Chips Chicken 170g         2        2.9  \n",
       " 3    Smiths Chip Thinly  S/Cream&Onion 175g         5       15.0  \n",
       " 4  Kettle Tortilla ChpsHny&Jlpno Chili 150g         3       13.8  ,\n",
       "    LYLTY_CARD_NBR               LIFESTAGE PREMIUM_CUSTOMER\n",
       " 0            1000   YOUNG SINGLES/COUPLES          Premium\n",
       " 1            1002   YOUNG SINGLES/COUPLES       Mainstream\n",
       " 2            1003          YOUNG FAMILIES           Budget\n",
       " 3            1004   OLDER SINGLES/COUPLES       Mainstream\n",
       " 4            1005  MIDAGE SINGLES/COUPLES       Mainstream,\n",
       " (264836, 8),\n",
       " (72637, 3))"
      ]
     },
     "execution_count": 5,
     "metadata": {},
     "output_type": "execute_result"
    }
   ],
   "source": [
    "# Display the first few rows of each dataset\n",
    "transaction_data_head = transactionData.head()\n",
    "customer_data_head = customerData.head()\n",
    "\n",
    "transaction_data_shape = transactionData.shape\n",
    "customer_data_shape = customerData.shape\n",
    "\n",
    "transaction_data_head, customer_data_head, transaction_data_shape, customer_data_shape"
   ]
  },
  {
   "cell_type": "code",
   "execution_count": 6,
   "id": "817db3e7",
   "metadata": {
    "execution": {
     "iopub.execute_input": "2024-10-05T20:14:22.772700Z",
     "iopub.status.busy": "2024-10-05T20:14:22.772316Z",
     "iopub.status.idle": "2024-10-05T20:14:22.803978Z",
     "shell.execute_reply": "2024-10-05T20:14:22.802863Z"
    },
    "papermill": {
     "duration": 0.042992,
     "end_time": "2024-10-05T20:14:22.806532",
     "exception": false,
     "start_time": "2024-10-05T20:14:22.763540",
     "status": "completed"
    },
    "tags": []
   },
   "outputs": [
    {
     "data": {
      "text/plain": [
       "(DATE              0\n",
       " STORE_NBR         0\n",
       " LYLTY_CARD_NBR    0\n",
       " TXN_ID            0\n",
       " PROD_NBR          0\n",
       " PROD_NAME         0\n",
       " PROD_QTY          0\n",
       " TOT_SALES         0\n",
       " dtype: int64,\n",
       " LYLTY_CARD_NBR      0\n",
       " LIFESTAGE           0\n",
       " PREMIUM_CUSTOMER    0\n",
       " dtype: int64)"
      ]
     },
     "execution_count": 6,
     "metadata": {},
     "output_type": "execute_result"
    }
   ],
   "source": [
    "# Check for missing values in both datasets\n",
    "missing_transaction_data = transactionData.isnull().sum()\n",
    "missing_customer_data = customerData.isnull().sum()\n",
    "\n",
    "missing_transaction_data, missing_customer_data\n"
   ]
  },
  {
   "cell_type": "code",
   "execution_count": 7,
   "id": "b0601a87",
   "metadata": {
    "execution": {
     "iopub.execute_input": "2024-10-05T20:14:22.821429Z",
     "iopub.status.busy": "2024-10-05T20:14:22.821035Z",
     "iopub.status.idle": "2024-10-05T20:14:22.956764Z",
     "shell.execute_reply": "2024-10-05T20:14:22.955494Z"
    },
    "papermill": {
     "duration": 0.146182,
     "end_time": "2024-10-05T20:14:22.959424",
     "exception": false,
     "start_time": "2024-10-05T20:14:22.813242",
     "status": "completed"
    },
    "tags": []
   },
   "outputs": [
    {
     "data": {
      "text/plain": [
       "(1, 0)"
      ]
     },
     "execution_count": 7,
     "metadata": {},
     "output_type": "execute_result"
    }
   ],
   "source": [
    "# Check for duplicate rows\n",
    "duplicate_transaction_data = transactionData.duplicated().sum()\n",
    "duplicate_customer_data = customerData.duplicated().sum()\n",
    "\n",
    "duplicate_transaction_data, duplicate_customer_data"
   ]
  },
  {
   "cell_type": "code",
   "execution_count": 8,
   "id": "11333d26",
   "metadata": {
    "execution": {
     "iopub.execute_input": "2024-10-05T20:14:22.975506Z",
     "iopub.status.busy": "2024-10-05T20:14:22.975122Z",
     "iopub.status.idle": "2024-10-05T20:14:23.103415Z",
     "shell.execute_reply": "2024-10-05T20:14:23.102127Z"
    },
    "papermill": {
     "duration": 0.139891,
     "end_time": "2024-10-05T20:14:23.106111",
     "exception": false,
     "start_time": "2024-10-05T20:14:22.966220",
     "status": "completed"
    },
    "tags": []
   },
   "outputs": [
    {
     "data": {
      "text/html": [
       "<div>\n",
       "<style scoped>\n",
       "    .dataframe tbody tr th:only-of-type {\n",
       "        vertical-align: middle;\n",
       "    }\n",
       "\n",
       "    .dataframe tbody tr th {\n",
       "        vertical-align: top;\n",
       "    }\n",
       "\n",
       "    .dataframe thead th {\n",
       "        text-align: right;\n",
       "    }\n",
       "</style>\n",
       "<table border=\"1\" class=\"dataframe\">\n",
       "  <thead>\n",
       "    <tr style=\"text-align: right;\">\n",
       "      <th></th>\n",
       "      <th>DATE</th>\n",
       "      <th>STORE_NBR</th>\n",
       "      <th>LYLTY_CARD_NBR</th>\n",
       "      <th>TXN_ID</th>\n",
       "      <th>PROD_NBR</th>\n",
       "      <th>PROD_NAME</th>\n",
       "      <th>PROD_QTY</th>\n",
       "      <th>TOT_SALES</th>\n",
       "    </tr>\n",
       "  </thead>\n",
       "  <tbody>\n",
       "    <tr>\n",
       "      <th>124845</th>\n",
       "      <td>43374</td>\n",
       "      <td>107</td>\n",
       "      <td>107024</td>\n",
       "      <td>108462</td>\n",
       "      <td>45</td>\n",
       "      <td>Smiths Thinly Cut   Roast Chicken 175g</td>\n",
       "      <td>2</td>\n",
       "      <td>6.0</td>\n",
       "    </tr>\n",
       "  </tbody>\n",
       "</table>\n",
       "</div>"
      ],
      "text/plain": [
       "         DATE  STORE_NBR  LYLTY_CARD_NBR  TXN_ID  PROD_NBR  \\\n",
       "124845  43374        107          107024  108462        45   \n",
       "\n",
       "                                     PROD_NAME  PROD_QTY  TOT_SALES  \n",
       "124845  Smiths Thinly Cut   Roast Chicken 175g         2        6.0  "
      ]
     },
     "execution_count": 8,
     "metadata": {},
     "output_type": "execute_result"
    }
   ],
   "source": [
    "# There is one duplicate value in transactionData dataset, and no value in customerData \n",
    "duplicate_rows = transactionData.duplicated() \n",
    "duplicate_data = transactionData[duplicate_rows] \n",
    "duplicate_data"
   ]
  },
  {
   "cell_type": "code",
   "execution_count": 9,
   "id": "7fa9c3ab",
   "metadata": {
    "execution": {
     "iopub.execute_input": "2024-10-05T20:14:23.126043Z",
     "iopub.status.busy": "2024-10-05T20:14:23.125625Z",
     "iopub.status.idle": "2024-10-05T20:14:23.151209Z",
     "shell.execute_reply": "2024-10-05T20:14:23.150047Z"
    },
    "papermill": {
     "duration": 0.037454,
     "end_time": "2024-10-05T20:14:23.154177",
     "exception": false,
     "start_time": "2024-10-05T20:14:23.116723",
     "status": "completed"
    },
    "tags": []
   },
   "outputs": [
    {
     "name": "stdout",
     "output_type": "stream",
     "text": [
      "<class 'pandas.core.frame.DataFrame'>\n",
      "RangeIndex: 264836 entries, 0 to 264835\n",
      "Data columns (total 8 columns):\n",
      " #   Column          Non-Null Count   Dtype  \n",
      "---  ------          --------------   -----  \n",
      " 0   DATE            264836 non-null  int64  \n",
      " 1   STORE_NBR       264836 non-null  int64  \n",
      " 2   LYLTY_CARD_NBR  264836 non-null  int64  \n",
      " 3   TXN_ID          264836 non-null  int64  \n",
      " 4   PROD_NBR        264836 non-null  int64  \n",
      " 5   PROD_NAME       264836 non-null  object \n",
      " 6   PROD_QTY        264836 non-null  int64  \n",
      " 7   TOT_SALES       264836 non-null  float64\n",
      "dtypes: float64(1), int64(6), object(1)\n",
      "memory usage: 16.2+ MB\n"
     ]
    }
   ],
   "source": [
    "transactionData.info()"
   ]
  },
  {
   "cell_type": "code",
   "execution_count": 10,
   "id": "a60ed56a",
   "metadata": {
    "execution": {
     "iopub.execute_input": "2024-10-05T20:14:23.169674Z",
     "iopub.status.busy": "2024-10-05T20:14:23.169270Z",
     "iopub.status.idle": "2024-10-05T20:14:23.315284Z",
     "shell.execute_reply": "2024-10-05T20:14:23.314109Z"
    },
    "papermill": {
     "duration": 0.156505,
     "end_time": "2024-10-05T20:14:23.317704",
     "exception": false,
     "start_time": "2024-10-05T20:14:23.161199",
     "status": "completed"
    },
    "tags": []
   },
   "outputs": [
    {
     "data": {
      "text/html": [
       "<div>\n",
       "<style scoped>\n",
       "    .dataframe tbody tr th:only-of-type {\n",
       "        vertical-align: middle;\n",
       "    }\n",
       "\n",
       "    .dataframe tbody tr th {\n",
       "        vertical-align: top;\n",
       "    }\n",
       "\n",
       "    .dataframe thead th {\n",
       "        text-align: right;\n",
       "    }\n",
       "</style>\n",
       "<table border=\"1\" class=\"dataframe\">\n",
       "  <thead>\n",
       "    <tr style=\"text-align: right;\">\n",
       "      <th></th>\n",
       "      <th>DATE</th>\n",
       "      <th>STORE_NBR</th>\n",
       "      <th>LYLTY_CARD_NBR</th>\n",
       "      <th>TXN_ID</th>\n",
       "      <th>PROD_NBR</th>\n",
       "      <th>PROD_NAME</th>\n",
       "      <th>PROD_QTY</th>\n",
       "      <th>TOT_SALES</th>\n",
       "    </tr>\n",
       "  </thead>\n",
       "  <tbody>\n",
       "    <tr>\n",
       "      <th>0</th>\n",
       "      <td>43390</td>\n",
       "      <td>1</td>\n",
       "      <td>1000</td>\n",
       "      <td>1</td>\n",
       "      <td>5</td>\n",
       "      <td>Natural Chip        Compny SeaSalt175g</td>\n",
       "      <td>2</td>\n",
       "      <td>6.0</td>\n",
       "    </tr>\n",
       "    <tr>\n",
       "      <th>1</th>\n",
       "      <td>43599</td>\n",
       "      <td>1</td>\n",
       "      <td>1307</td>\n",
       "      <td>348</td>\n",
       "      <td>66</td>\n",
       "      <td>CCs Nacho Cheese    175g</td>\n",
       "      <td>3</td>\n",
       "      <td>6.3</td>\n",
       "    </tr>\n",
       "    <tr>\n",
       "      <th>2</th>\n",
       "      <td>43605</td>\n",
       "      <td>1</td>\n",
       "      <td>1343</td>\n",
       "      <td>383</td>\n",
       "      <td>61</td>\n",
       "      <td>Smiths Crinkle Cut  Chips Chicken 170g</td>\n",
       "      <td>2</td>\n",
       "      <td>2.9</td>\n",
       "    </tr>\n",
       "    <tr>\n",
       "      <th>3</th>\n",
       "      <td>43329</td>\n",
       "      <td>2</td>\n",
       "      <td>2373</td>\n",
       "      <td>974</td>\n",
       "      <td>69</td>\n",
       "      <td>Smiths Chip Thinly  S/Cream&amp;Onion 175g</td>\n",
       "      <td>5</td>\n",
       "      <td>15.0</td>\n",
       "    </tr>\n",
       "    <tr>\n",
       "      <th>4</th>\n",
       "      <td>43330</td>\n",
       "      <td>2</td>\n",
       "      <td>2426</td>\n",
       "      <td>1038</td>\n",
       "      <td>108</td>\n",
       "      <td>Kettle Tortilla ChpsHny&amp;Jlpno Chili 150g</td>\n",
       "      <td>3</td>\n",
       "      <td>13.8</td>\n",
       "    </tr>\n",
       "    <tr>\n",
       "      <th>...</th>\n",
       "      <td>...</td>\n",
       "      <td>...</td>\n",
       "      <td>...</td>\n",
       "      <td>...</td>\n",
       "      <td>...</td>\n",
       "      <td>...</td>\n",
       "      <td>...</td>\n",
       "      <td>...</td>\n",
       "    </tr>\n",
       "    <tr>\n",
       "      <th>264831</th>\n",
       "      <td>43533</td>\n",
       "      <td>272</td>\n",
       "      <td>272319</td>\n",
       "      <td>270088</td>\n",
       "      <td>89</td>\n",
       "      <td>Kettle Sweet Chilli And Sour Cream 175g</td>\n",
       "      <td>2</td>\n",
       "      <td>10.8</td>\n",
       "    </tr>\n",
       "    <tr>\n",
       "      <th>264832</th>\n",
       "      <td>43325</td>\n",
       "      <td>272</td>\n",
       "      <td>272358</td>\n",
       "      <td>270154</td>\n",
       "      <td>74</td>\n",
       "      <td>Tostitos Splash Of  Lime 175g</td>\n",
       "      <td>1</td>\n",
       "      <td>4.4</td>\n",
       "    </tr>\n",
       "    <tr>\n",
       "      <th>264833</th>\n",
       "      <td>43410</td>\n",
       "      <td>272</td>\n",
       "      <td>272379</td>\n",
       "      <td>270187</td>\n",
       "      <td>51</td>\n",
       "      <td>Doritos Mexicana    170g</td>\n",
       "      <td>2</td>\n",
       "      <td>8.8</td>\n",
       "    </tr>\n",
       "    <tr>\n",
       "      <th>264834</th>\n",
       "      <td>43461</td>\n",
       "      <td>272</td>\n",
       "      <td>272379</td>\n",
       "      <td>270188</td>\n",
       "      <td>42</td>\n",
       "      <td>Doritos Corn Chip Mexican Jalapeno 150g</td>\n",
       "      <td>2</td>\n",
       "      <td>7.8</td>\n",
       "    </tr>\n",
       "    <tr>\n",
       "      <th>264835</th>\n",
       "      <td>43365</td>\n",
       "      <td>272</td>\n",
       "      <td>272380</td>\n",
       "      <td>270189</td>\n",
       "      <td>74</td>\n",
       "      <td>Tostitos Splash Of  Lime 175g</td>\n",
       "      <td>2</td>\n",
       "      <td>8.8</td>\n",
       "    </tr>\n",
       "  </tbody>\n",
       "</table>\n",
       "<p>264835 rows × 8 columns</p>\n",
       "</div>"
      ],
      "text/plain": [
       "         DATE  STORE_NBR  LYLTY_CARD_NBR  TXN_ID  PROD_NBR  \\\n",
       "0       43390          1            1000       1         5   \n",
       "1       43599          1            1307     348        66   \n",
       "2       43605          1            1343     383        61   \n",
       "3       43329          2            2373     974        69   \n",
       "4       43330          2            2426    1038       108   \n",
       "...       ...        ...             ...     ...       ...   \n",
       "264831  43533        272          272319  270088        89   \n",
       "264832  43325        272          272358  270154        74   \n",
       "264833  43410        272          272379  270187        51   \n",
       "264834  43461        272          272379  270188        42   \n",
       "264835  43365        272          272380  270189        74   \n",
       "\n",
       "                                       PROD_NAME  PROD_QTY  TOT_SALES  \n",
       "0         Natural Chip        Compny SeaSalt175g         2        6.0  \n",
       "1                       CCs Nacho Cheese    175g         3        6.3  \n",
       "2         Smiths Crinkle Cut  Chips Chicken 170g         2        2.9  \n",
       "3         Smiths Chip Thinly  S/Cream&Onion 175g         5       15.0  \n",
       "4       Kettle Tortilla ChpsHny&Jlpno Chili 150g         3       13.8  \n",
       "...                                          ...       ...        ...  \n",
       "264831   Kettle Sweet Chilli And Sour Cream 175g         2       10.8  \n",
       "264832             Tostitos Splash Of  Lime 175g         1        4.4  \n",
       "264833                  Doritos Mexicana    170g         2        8.8  \n",
       "264834   Doritos Corn Chip Mexican Jalapeno 150g         2        7.8  \n",
       "264835             Tostitos Splash Of  Lime 175g         2        8.8  \n",
       "\n",
       "[264835 rows x 8 columns]"
      ]
     },
     "execution_count": 10,
     "metadata": {},
     "output_type": "execute_result"
    }
   ],
   "source": [
    "transaction_data_clean = transactionData.drop_duplicates()\n",
    "transaction_data_clean"
   ]
  },
  {
   "cell_type": "code",
   "execution_count": 11,
   "id": "99f828ac",
   "metadata": {
    "execution": {
     "iopub.execute_input": "2024-10-05T20:14:23.334337Z",
     "iopub.status.busy": "2024-10-05T20:14:23.333862Z",
     "iopub.status.idle": "2024-10-05T20:14:23.341170Z",
     "shell.execute_reply": "2024-10-05T20:14:23.340149Z"
    },
    "papermill": {
     "duration": 0.018113,
     "end_time": "2024-10-05T20:14:23.343475",
     "exception": false,
     "start_time": "2024-10-05T20:14:23.325362",
     "status": "completed"
    },
    "tags": []
   },
   "outputs": [
    {
     "data": {
      "text/plain": [
       "(264835, 8)"
      ]
     },
     "execution_count": 11,
     "metadata": {},
     "output_type": "execute_result"
    }
   ],
   "source": [
    "transaction_data_clean.shape"
   ]
  },
  {
   "cell_type": "code",
   "execution_count": 12,
   "id": "f0b33e92",
   "metadata": {
    "execution": {
     "iopub.execute_input": "2024-10-05T20:14:23.360558Z",
     "iopub.status.busy": "2024-10-05T20:14:23.360133Z",
     "iopub.status.idle": "2024-10-05T20:14:23.446668Z",
     "shell.execute_reply": "2024-10-05T20:14:23.445564Z"
    },
    "papermill": {
     "duration": 0.097893,
     "end_time": "2024-10-05T20:14:23.449159",
     "exception": false,
     "start_time": "2024-10-05T20:14:23.351266",
     "status": "completed"
    },
    "tags": []
   },
   "outputs": [
    {
     "data": {
      "text/html": [
       "<div>\n",
       "<style scoped>\n",
       "    .dataframe tbody tr th:only-of-type {\n",
       "        vertical-align: middle;\n",
       "    }\n",
       "\n",
       "    .dataframe tbody tr th {\n",
       "        vertical-align: top;\n",
       "    }\n",
       "\n",
       "    .dataframe thead th {\n",
       "        text-align: right;\n",
       "    }\n",
       "</style>\n",
       "<table border=\"1\" class=\"dataframe\">\n",
       "  <thead>\n",
       "    <tr style=\"text-align: right;\">\n",
       "      <th></th>\n",
       "      <th>DATE</th>\n",
       "      <th>STORE_NBR</th>\n",
       "      <th>LYLTY_CARD_NBR</th>\n",
       "      <th>TXN_ID</th>\n",
       "      <th>PROD_NBR</th>\n",
       "      <th>PROD_QTY</th>\n",
       "      <th>TOT_SALES</th>\n",
       "    </tr>\n",
       "  </thead>\n",
       "  <tbody>\n",
       "    <tr>\n",
       "      <th>count</th>\n",
       "      <td>264835.000000</td>\n",
       "      <td>264835.000000</td>\n",
       "      <td>2.648350e+05</td>\n",
       "      <td>2.648350e+05</td>\n",
       "      <td>264835.000000</td>\n",
       "      <td>264835.000000</td>\n",
       "      <td>264835.000000</td>\n",
       "    </tr>\n",
       "    <tr>\n",
       "      <th>mean</th>\n",
       "      <td>43464.036600</td>\n",
       "      <td>135.080216</td>\n",
       "      <td>1.355496e+05</td>\n",
       "      <td>1.351584e+05</td>\n",
       "      <td>56.583201</td>\n",
       "      <td>1.907308</td>\n",
       "      <td>7.304205</td>\n",
       "    </tr>\n",
       "    <tr>\n",
       "      <th>std</th>\n",
       "      <td>105.389336</td>\n",
       "      <td>76.784306</td>\n",
       "      <td>8.058011e+04</td>\n",
       "      <td>7.813316e+04</td>\n",
       "      <td>32.826692</td>\n",
       "      <td>0.643655</td>\n",
       "      <td>3.083231</td>\n",
       "    </tr>\n",
       "    <tr>\n",
       "      <th>min</th>\n",
       "      <td>43282.000000</td>\n",
       "      <td>1.000000</td>\n",
       "      <td>1.000000e+03</td>\n",
       "      <td>1.000000e+00</td>\n",
       "      <td>1.000000</td>\n",
       "      <td>1.000000</td>\n",
       "      <td>1.500000</td>\n",
       "    </tr>\n",
       "    <tr>\n",
       "      <th>25%</th>\n",
       "      <td>43373.000000</td>\n",
       "      <td>70.000000</td>\n",
       "      <td>7.002100e+04</td>\n",
       "      <td>6.760100e+04</td>\n",
       "      <td>28.000000</td>\n",
       "      <td>2.000000</td>\n",
       "      <td>5.400000</td>\n",
       "    </tr>\n",
       "    <tr>\n",
       "      <th>50%</th>\n",
       "      <td>43464.000000</td>\n",
       "      <td>130.000000</td>\n",
       "      <td>1.303580e+05</td>\n",
       "      <td>1.351380e+05</td>\n",
       "      <td>56.000000</td>\n",
       "      <td>2.000000</td>\n",
       "      <td>7.400000</td>\n",
       "    </tr>\n",
       "    <tr>\n",
       "      <th>75%</th>\n",
       "      <td>43555.000000</td>\n",
       "      <td>203.000000</td>\n",
       "      <td>2.030945e+05</td>\n",
       "      <td>2.027015e+05</td>\n",
       "      <td>85.000000</td>\n",
       "      <td>2.000000</td>\n",
       "      <td>9.200000</td>\n",
       "    </tr>\n",
       "    <tr>\n",
       "      <th>max</th>\n",
       "      <td>43646.000000</td>\n",
       "      <td>272.000000</td>\n",
       "      <td>2.373711e+06</td>\n",
       "      <td>2.415841e+06</td>\n",
       "      <td>114.000000</td>\n",
       "      <td>200.000000</td>\n",
       "      <td>650.000000</td>\n",
       "    </tr>\n",
       "  </tbody>\n",
       "</table>\n",
       "</div>"
      ],
      "text/plain": [
       "                DATE      STORE_NBR  LYLTY_CARD_NBR        TXN_ID  \\\n",
       "count  264835.000000  264835.000000    2.648350e+05  2.648350e+05   \n",
       "mean    43464.036600     135.080216    1.355496e+05  1.351584e+05   \n",
       "std       105.389336      76.784306    8.058011e+04  7.813316e+04   \n",
       "min     43282.000000       1.000000    1.000000e+03  1.000000e+00   \n",
       "25%     43373.000000      70.000000    7.002100e+04  6.760100e+04   \n",
       "50%     43464.000000     130.000000    1.303580e+05  1.351380e+05   \n",
       "75%     43555.000000     203.000000    2.030945e+05  2.027015e+05   \n",
       "max     43646.000000     272.000000    2.373711e+06  2.415841e+06   \n",
       "\n",
       "            PROD_NBR       PROD_QTY      TOT_SALES  \n",
       "count  264835.000000  264835.000000  264835.000000  \n",
       "mean       56.583201       1.907308       7.304205  \n",
       "std        32.826692       0.643655       3.083231  \n",
       "min         1.000000       1.000000       1.500000  \n",
       "25%        28.000000       2.000000       5.400000  \n",
       "50%        56.000000       2.000000       7.400000  \n",
       "75%        85.000000       2.000000       9.200000  \n",
       "max       114.000000     200.000000     650.000000  "
      ]
     },
     "execution_count": 12,
     "metadata": {},
     "output_type": "execute_result"
    }
   ],
   "source": [
    "# Quick statistics of numeric columns to inspect outliers\n",
    "transaction_data_clean.describe()"
   ]
  },
  {
   "cell_type": "code",
   "execution_count": 13,
   "id": "f9426e8d",
   "metadata": {
    "execution": {
     "iopub.execute_input": "2024-10-05T20:14:23.466501Z",
     "iopub.status.busy": "2024-10-05T20:14:23.466041Z",
     "iopub.status.idle": "2024-10-05T20:14:23.480788Z",
     "shell.execute_reply": "2024-10-05T20:14:23.479602Z"
    },
    "papermill": {
     "duration": 0.026493,
     "end_time": "2024-10-05T20:14:23.483381",
     "exception": false,
     "start_time": "2024-10-05T20:14:23.456888",
     "status": "completed"
    },
    "tags": []
   },
   "outputs": [
    {
     "data": {
      "text/html": [
       "<div>\n",
       "<style scoped>\n",
       "    .dataframe tbody tr th:only-of-type {\n",
       "        vertical-align: middle;\n",
       "    }\n",
       "\n",
       "    .dataframe tbody tr th {\n",
       "        vertical-align: top;\n",
       "    }\n",
       "\n",
       "    .dataframe thead th {\n",
       "        text-align: right;\n",
       "    }\n",
       "</style>\n",
       "<table border=\"1\" class=\"dataframe\">\n",
       "  <thead>\n",
       "    <tr style=\"text-align: right;\">\n",
       "      <th></th>\n",
       "      <th>DATE</th>\n",
       "      <th>STORE_NBR</th>\n",
       "      <th>LYLTY_CARD_NBR</th>\n",
       "      <th>TXN_ID</th>\n",
       "      <th>PROD_NBR</th>\n",
       "      <th>PROD_NAME</th>\n",
       "      <th>PROD_QTY</th>\n",
       "      <th>TOT_SALES</th>\n",
       "    </tr>\n",
       "  </thead>\n",
       "  <tbody>\n",
       "    <tr>\n",
       "      <th>69762</th>\n",
       "      <td>43331</td>\n",
       "      <td>226</td>\n",
       "      <td>226000</td>\n",
       "      <td>226201</td>\n",
       "      <td>4</td>\n",
       "      <td>Dorito Corn Chp     Supreme 380g</td>\n",
       "      <td>200</td>\n",
       "      <td>650.0</td>\n",
       "    </tr>\n",
       "    <tr>\n",
       "      <th>69763</th>\n",
       "      <td>43605</td>\n",
       "      <td>226</td>\n",
       "      <td>226000</td>\n",
       "      <td>226210</td>\n",
       "      <td>4</td>\n",
       "      <td>Dorito Corn Chp     Supreme 380g</td>\n",
       "      <td>200</td>\n",
       "      <td>650.0</td>\n",
       "    </tr>\n",
       "  </tbody>\n",
       "</table>\n",
       "</div>"
      ],
      "text/plain": [
       "        DATE  STORE_NBR  LYLTY_CARD_NBR  TXN_ID  PROD_NBR  \\\n",
       "69762  43331        226          226000  226201         4   \n",
       "69763  43605        226          226000  226210         4   \n",
       "\n",
       "                              PROD_NAME  PROD_QTY  TOT_SALES  \n",
       "69762  Dorito Corn Chp     Supreme 380g       200      650.0  \n",
       "69763  Dorito Corn Chp     Supreme 380g       200      650.0  "
      ]
     },
     "execution_count": 13,
     "metadata": {},
     "output_type": "execute_result"
    }
   ],
   "source": [
    "# removing outlier/s from PROD_QTY column(200)\n",
    "# Considering transactions where quantity > 10 as outliers\n",
    "outlier_qty_transactions = transaction_data_clean[transaction_data_clean['PROD_QTY'] > 10]\n",
    "outlier_qty_transactions"
   ]
  },
  {
   "cell_type": "code",
   "execution_count": 14,
   "id": "d9d13bf1",
   "metadata": {
    "execution": {
     "iopub.execute_input": "2024-10-05T20:14:23.500667Z",
     "iopub.status.busy": "2024-10-05T20:14:23.500270Z",
     "iopub.status.idle": "2024-10-05T20:14:23.528651Z",
     "shell.execute_reply": "2024-10-05T20:14:23.527515Z"
    },
    "papermill": {
     "duration": 0.040341,
     "end_time": "2024-10-05T20:14:23.531506",
     "exception": false,
     "start_time": "2024-10-05T20:14:23.491165",
     "status": "completed"
    },
    "tags": []
   },
   "outputs": [
    {
     "data": {
      "text/html": [
       "<div>\n",
       "<style scoped>\n",
       "    .dataframe tbody tr th:only-of-type {\n",
       "        vertical-align: middle;\n",
       "    }\n",
       "\n",
       "    .dataframe tbody tr th {\n",
       "        vertical-align: top;\n",
       "    }\n",
       "\n",
       "    .dataframe thead th {\n",
       "        text-align: right;\n",
       "    }\n",
       "</style>\n",
       "<table border=\"1\" class=\"dataframe\">\n",
       "  <thead>\n",
       "    <tr style=\"text-align: right;\">\n",
       "      <th></th>\n",
       "      <th>DATE</th>\n",
       "      <th>STORE_NBR</th>\n",
       "      <th>LYLTY_CARD_NBR</th>\n",
       "      <th>TXN_ID</th>\n",
       "      <th>PROD_NBR</th>\n",
       "      <th>PROD_NAME</th>\n",
       "      <th>PROD_QTY</th>\n",
       "      <th>TOT_SALES</th>\n",
       "    </tr>\n",
       "  </thead>\n",
       "  <tbody>\n",
       "    <tr>\n",
       "      <th>0</th>\n",
       "      <td>43390</td>\n",
       "      <td>1</td>\n",
       "      <td>1000</td>\n",
       "      <td>1</td>\n",
       "      <td>5</td>\n",
       "      <td>Natural Chip        Compny SeaSalt175g</td>\n",
       "      <td>2</td>\n",
       "      <td>6.0</td>\n",
       "    </tr>\n",
       "    <tr>\n",
       "      <th>1</th>\n",
       "      <td>43599</td>\n",
       "      <td>1</td>\n",
       "      <td>1307</td>\n",
       "      <td>348</td>\n",
       "      <td>66</td>\n",
       "      <td>CCs Nacho Cheese    175g</td>\n",
       "      <td>3</td>\n",
       "      <td>6.3</td>\n",
       "    </tr>\n",
       "    <tr>\n",
       "      <th>2</th>\n",
       "      <td>43605</td>\n",
       "      <td>1</td>\n",
       "      <td>1343</td>\n",
       "      <td>383</td>\n",
       "      <td>61</td>\n",
       "      <td>Smiths Crinkle Cut  Chips Chicken 170g</td>\n",
       "      <td>2</td>\n",
       "      <td>2.9</td>\n",
       "    </tr>\n",
       "    <tr>\n",
       "      <th>3</th>\n",
       "      <td>43329</td>\n",
       "      <td>2</td>\n",
       "      <td>2373</td>\n",
       "      <td>974</td>\n",
       "      <td>69</td>\n",
       "      <td>Smiths Chip Thinly  S/Cream&amp;Onion 175g</td>\n",
       "      <td>5</td>\n",
       "      <td>15.0</td>\n",
       "    </tr>\n",
       "    <tr>\n",
       "      <th>4</th>\n",
       "      <td>43330</td>\n",
       "      <td>2</td>\n",
       "      <td>2426</td>\n",
       "      <td>1038</td>\n",
       "      <td>108</td>\n",
       "      <td>Kettle Tortilla ChpsHny&amp;Jlpno Chili 150g</td>\n",
       "      <td>3</td>\n",
       "      <td>13.8</td>\n",
       "    </tr>\n",
       "    <tr>\n",
       "      <th>...</th>\n",
       "      <td>...</td>\n",
       "      <td>...</td>\n",
       "      <td>...</td>\n",
       "      <td>...</td>\n",
       "      <td>...</td>\n",
       "      <td>...</td>\n",
       "      <td>...</td>\n",
       "      <td>...</td>\n",
       "    </tr>\n",
       "    <tr>\n",
       "      <th>264831</th>\n",
       "      <td>43533</td>\n",
       "      <td>272</td>\n",
       "      <td>272319</td>\n",
       "      <td>270088</td>\n",
       "      <td>89</td>\n",
       "      <td>Kettle Sweet Chilli And Sour Cream 175g</td>\n",
       "      <td>2</td>\n",
       "      <td>10.8</td>\n",
       "    </tr>\n",
       "    <tr>\n",
       "      <th>264832</th>\n",
       "      <td>43325</td>\n",
       "      <td>272</td>\n",
       "      <td>272358</td>\n",
       "      <td>270154</td>\n",
       "      <td>74</td>\n",
       "      <td>Tostitos Splash Of  Lime 175g</td>\n",
       "      <td>1</td>\n",
       "      <td>4.4</td>\n",
       "    </tr>\n",
       "    <tr>\n",
       "      <th>264833</th>\n",
       "      <td>43410</td>\n",
       "      <td>272</td>\n",
       "      <td>272379</td>\n",
       "      <td>270187</td>\n",
       "      <td>51</td>\n",
       "      <td>Doritos Mexicana    170g</td>\n",
       "      <td>2</td>\n",
       "      <td>8.8</td>\n",
       "    </tr>\n",
       "    <tr>\n",
       "      <th>264834</th>\n",
       "      <td>43461</td>\n",
       "      <td>272</td>\n",
       "      <td>272379</td>\n",
       "      <td>270188</td>\n",
       "      <td>42</td>\n",
       "      <td>Doritos Corn Chip Mexican Jalapeno 150g</td>\n",
       "      <td>2</td>\n",
       "      <td>7.8</td>\n",
       "    </tr>\n",
       "    <tr>\n",
       "      <th>264835</th>\n",
       "      <td>43365</td>\n",
       "      <td>272</td>\n",
       "      <td>272380</td>\n",
       "      <td>270189</td>\n",
       "      <td>74</td>\n",
       "      <td>Tostitos Splash Of  Lime 175g</td>\n",
       "      <td>2</td>\n",
       "      <td>8.8</td>\n",
       "    </tr>\n",
       "  </tbody>\n",
       "</table>\n",
       "<p>264833 rows × 8 columns</p>\n",
       "</div>"
      ],
      "text/plain": [
       "         DATE  STORE_NBR  LYLTY_CARD_NBR  TXN_ID  PROD_NBR  \\\n",
       "0       43390          1            1000       1         5   \n",
       "1       43599          1            1307     348        66   \n",
       "2       43605          1            1343     383        61   \n",
       "3       43329          2            2373     974        69   \n",
       "4       43330          2            2426    1038       108   \n",
       "...       ...        ...             ...     ...       ...   \n",
       "264831  43533        272          272319  270088        89   \n",
       "264832  43325        272          272358  270154        74   \n",
       "264833  43410        272          272379  270187        51   \n",
       "264834  43461        272          272379  270188        42   \n",
       "264835  43365        272          272380  270189        74   \n",
       "\n",
       "                                       PROD_NAME  PROD_QTY  TOT_SALES  \n",
       "0         Natural Chip        Compny SeaSalt175g         2        6.0  \n",
       "1                       CCs Nacho Cheese    175g         3        6.3  \n",
       "2         Smiths Crinkle Cut  Chips Chicken 170g         2        2.9  \n",
       "3         Smiths Chip Thinly  S/Cream&Onion 175g         5       15.0  \n",
       "4       Kettle Tortilla ChpsHny&Jlpno Chili 150g         3       13.8  \n",
       "...                                          ...       ...        ...  \n",
       "264831   Kettle Sweet Chilli And Sour Cream 175g         2       10.8  \n",
       "264832             Tostitos Splash Of  Lime 175g         1        4.4  \n",
       "264833                  Doritos Mexicana    170g         2        8.8  \n",
       "264834   Doritos Corn Chip Mexican Jalapeno 150g         2        7.8  \n",
       "264835             Tostitos Splash Of  Lime 175g         2        8.8  \n",
       "\n",
       "[264833 rows x 8 columns]"
      ]
     },
     "execution_count": 14,
     "metadata": {},
     "output_type": "execute_result"
    }
   ],
   "source": [
    "# Remove the outliers\n",
    "transaction_data_clean = transaction_data_clean[transaction_data_clean['PROD_QTY'] <= 10]\n",
    "transaction_data_clean"
   ]
  },
  {
   "cell_type": "code",
   "execution_count": 15,
   "id": "cabc119f",
   "metadata": {
    "execution": {
     "iopub.execute_input": "2024-10-05T20:14:23.549674Z",
     "iopub.status.busy": "2024-10-05T20:14:23.549273Z",
     "iopub.status.idle": "2024-10-05T20:14:23.556551Z",
     "shell.execute_reply": "2024-10-05T20:14:23.555324Z"
    },
    "papermill": {
     "duration": 0.019192,
     "end_time": "2024-10-05T20:14:23.559085",
     "exception": false,
     "start_time": "2024-10-05T20:14:23.539893",
     "status": "completed"
    },
    "tags": []
   },
   "outputs": [
    {
     "data": {
      "text/plain": [
       "(264833, 8)"
      ]
     },
     "execution_count": 15,
     "metadata": {},
     "output_type": "execute_result"
    }
   ],
   "source": [
    "# Checking the shape after cleaning\n",
    "cleaned_transaction_data_shape = transaction_data_clean.shape\n",
    "cleaned_transaction_data_shape"
   ]
  },
  {
   "cell_type": "code",
   "execution_count": 16,
   "id": "cfe3f1e6",
   "metadata": {
    "execution": {
     "iopub.execute_input": "2024-10-05T20:14:23.577623Z",
     "iopub.status.busy": "2024-10-05T20:14:23.576840Z",
     "iopub.status.idle": "2024-10-05T20:14:23.591852Z",
     "shell.execute_reply": "2024-10-05T20:14:23.590753Z"
    },
    "papermill": {
     "duration": 0.027015,
     "end_time": "2024-10-05T20:14:23.594332",
     "exception": false,
     "start_time": "2024-10-05T20:14:23.567317",
     "status": "completed"
    },
    "tags": []
   },
   "outputs": [
    {
     "data": {
      "text/html": [
       "<div>\n",
       "<style scoped>\n",
       "    .dataframe tbody tr th:only-of-type {\n",
       "        vertical-align: middle;\n",
       "    }\n",
       "\n",
       "    .dataframe tbody tr th {\n",
       "        vertical-align: top;\n",
       "    }\n",
       "\n",
       "    .dataframe thead th {\n",
       "        text-align: right;\n",
       "    }\n",
       "</style>\n",
       "<table border=\"1\" class=\"dataframe\">\n",
       "  <thead>\n",
       "    <tr style=\"text-align: right;\">\n",
       "      <th></th>\n",
       "      <th>LYLTY_CARD_NBR</th>\n",
       "    </tr>\n",
       "  </thead>\n",
       "  <tbody>\n",
       "    <tr>\n",
       "      <th>count</th>\n",
       "      <td>7.263700e+04</td>\n",
       "    </tr>\n",
       "    <tr>\n",
       "      <th>mean</th>\n",
       "      <td>1.361859e+05</td>\n",
       "    </tr>\n",
       "    <tr>\n",
       "      <th>std</th>\n",
       "      <td>8.989293e+04</td>\n",
       "    </tr>\n",
       "    <tr>\n",
       "      <th>min</th>\n",
       "      <td>1.000000e+03</td>\n",
       "    </tr>\n",
       "    <tr>\n",
       "      <th>25%</th>\n",
       "      <td>6.620200e+04</td>\n",
       "    </tr>\n",
       "    <tr>\n",
       "      <th>50%</th>\n",
       "      <td>1.340400e+05</td>\n",
       "    </tr>\n",
       "    <tr>\n",
       "      <th>75%</th>\n",
       "      <td>2.033750e+05</td>\n",
       "    </tr>\n",
       "    <tr>\n",
       "      <th>max</th>\n",
       "      <td>2.373711e+06</td>\n",
       "    </tr>\n",
       "  </tbody>\n",
       "</table>\n",
       "</div>"
      ],
      "text/plain": [
       "       LYLTY_CARD_NBR\n",
       "count    7.263700e+04\n",
       "mean     1.361859e+05\n",
       "std      8.989293e+04\n",
       "min      1.000000e+03\n",
       "25%      6.620200e+04\n",
       "50%      1.340400e+05\n",
       "75%      2.033750e+05\n",
       "max      2.373711e+06"
      ]
     },
     "execution_count": 16,
     "metadata": {},
     "output_type": "execute_result"
    }
   ],
   "source": [
    "# Quick statistics of numeric columns to inspect outliers\n",
    "customerData.describe()"
   ]
  },
  {
   "cell_type": "markdown",
   "id": "05fb0128",
   "metadata": {
    "papermill": {
     "duration": 0.008031,
     "end_time": "2024-10-05T20:14:23.610763",
     "exception": false,
     "start_time": "2024-10-05T20:14:23.602732",
     "status": "completed"
    },
    "tags": []
   },
   "source": [
    "We conclude that there exists no outliers in customerData file"
   ]
  },
  {
   "cell_type": "markdown",
   "id": "3514ccd2",
   "metadata": {
    "papermill": {
     "duration": 0.008238,
     "end_time": "2024-10-05T20:14:23.627488",
     "exception": false,
     "start_time": "2024-10-05T20:14:23.619250",
     "status": "completed"
    },
    "tags": []
   },
   "source": [
    "# Extra Features"
   ]
  },
  {
   "cell_type": "code",
   "execution_count": 17,
   "id": "389eb339",
   "metadata": {
    "execution": {
     "iopub.execute_input": "2024-10-05T20:14:23.645709Z",
     "iopub.status.busy": "2024-10-05T20:14:23.645333Z",
     "iopub.status.idle": "2024-10-05T20:14:24.506441Z",
     "shell.execute_reply": "2024-10-05T20:14:24.505183Z"
    },
    "papermill": {
     "duration": 0.873601,
     "end_time": "2024-10-05T20:14:24.509496",
     "exception": false,
     "start_time": "2024-10-05T20:14:23.635895",
     "status": "completed"
    },
    "tags": []
   },
   "outputs": [
    {
     "name": "stderr",
     "output_type": "stream",
     "text": [
      "/tmp/ipykernel_18/4161293363.py:14: SettingWithCopyWarning: \n",
      "A value is trying to be set on a copy of a slice from a DataFrame.\n",
      "Try using .loc[row_indexer,col_indexer] = value instead\n",
      "\n",
      "See the caveats in the documentation: https://pandas.pydata.org/pandas-docs/stable/user_guide/indexing.html#returning-a-view-versus-a-copy\n",
      "  transaction_data_clean['PACK_SIZE'] = transaction_data_clean['PROD_NAME'].apply(extract_pack_size)\n",
      "/tmp/ipykernel_18/4161293363.py:15: SettingWithCopyWarning: \n",
      "A value is trying to be set on a copy of a slice from a DataFrame.\n",
      "Try using .loc[row_indexer,col_indexer] = value instead\n",
      "\n",
      "See the caveats in the documentation: https://pandas.pydata.org/pandas-docs/stable/user_guide/indexing.html#returning-a-view-versus-a-copy\n",
      "  transaction_data_clean['BRAND'] = transaction_data_clean['PROD_NAME'].apply(extract_brand_name)\n"
     ]
    },
    {
     "data": {
      "text/html": [
       "<div>\n",
       "<style scoped>\n",
       "    .dataframe tbody tr th:only-of-type {\n",
       "        vertical-align: middle;\n",
       "    }\n",
       "\n",
       "    .dataframe tbody tr th {\n",
       "        vertical-align: top;\n",
       "    }\n",
       "\n",
       "    .dataframe thead th {\n",
       "        text-align: right;\n",
       "    }\n",
       "</style>\n",
       "<table border=\"1\" class=\"dataframe\">\n",
       "  <thead>\n",
       "    <tr style=\"text-align: right;\">\n",
       "      <th></th>\n",
       "      <th>PROD_NAME</th>\n",
       "      <th>PACK_SIZE</th>\n",
       "      <th>BRAND</th>\n",
       "    </tr>\n",
       "  </thead>\n",
       "  <tbody>\n",
       "    <tr>\n",
       "      <th>0</th>\n",
       "      <td>Natural Chip        Compny SeaSalt175g</td>\n",
       "      <td>175</td>\n",
       "      <td>Natural</td>\n",
       "    </tr>\n",
       "    <tr>\n",
       "      <th>1</th>\n",
       "      <td>CCs Nacho Cheese    175g</td>\n",
       "      <td>175</td>\n",
       "      <td>CCs</td>\n",
       "    </tr>\n",
       "    <tr>\n",
       "      <th>2</th>\n",
       "      <td>Smiths Crinkle Cut  Chips Chicken 170g</td>\n",
       "      <td>170</td>\n",
       "      <td>Smiths</td>\n",
       "    </tr>\n",
       "    <tr>\n",
       "      <th>3</th>\n",
       "      <td>Smiths Chip Thinly  S/Cream&amp;Onion 175g</td>\n",
       "      <td>175</td>\n",
       "      <td>Smiths</td>\n",
       "    </tr>\n",
       "    <tr>\n",
       "      <th>4</th>\n",
       "      <td>Kettle Tortilla ChpsHny&amp;Jlpno Chili 150g</td>\n",
       "      <td>150</td>\n",
       "      <td>Kettle</td>\n",
       "    </tr>\n",
       "  </tbody>\n",
       "</table>\n",
       "</div>"
      ],
      "text/plain": [
       "                                  PROD_NAME  PACK_SIZE    BRAND\n",
       "0    Natural Chip        Compny SeaSalt175g        175  Natural\n",
       "1                  CCs Nacho Cheese    175g        175      CCs\n",
       "2    Smiths Crinkle Cut  Chips Chicken 170g        170   Smiths\n",
       "3    Smiths Chip Thinly  S/Cream&Onion 175g        175   Smiths\n",
       "4  Kettle Tortilla ChpsHny&Jlpno Chili 150g        150   Kettle"
      ]
     },
     "execution_count": 17,
     "metadata": {},
     "output_type": "execute_result"
    }
   ],
   "source": [
    "# Extractng pack size and brand name from PROD_NAME column\n",
    "import re\n",
    "\n",
    "# Function to extract pack size from PROD_NAME column ('175g')\n",
    "def extract_pack_size(prod_name):\n",
    "    match = re.search(r'(\\d+)(g)', prod_name.lower())\n",
    "    return int(match.group(1)) if match else None\n",
    "\n",
    "# Function to extract brand name from PROD_NAME column\n",
    "def extract_brand_name(prod_name):\n",
    "    return prod_name.split()[0]\n",
    "\n",
    "# Functions to derive pack size and brand name\n",
    "transaction_data_clean['PACK_SIZE'] = transaction_data_clean['PROD_NAME'].apply(extract_pack_size)\n",
    "transaction_data_clean['BRAND'] = transaction_data_clean['PROD_NAME'].apply(extract_brand_name)\n",
    "\n",
    "# Checking the first few rows to verify\n",
    "transaction_data_clean[['PROD_NAME', 'PACK_SIZE', 'BRAND']].head()"
   ]
  },
  {
   "cell_type": "code",
   "execution_count": 18,
   "id": "4a4e63c0",
   "metadata": {
    "execution": {
     "iopub.execute_input": "2024-10-05T20:14:24.529342Z",
     "iopub.status.busy": "2024-10-05T20:14:24.528934Z",
     "iopub.status.idle": "2024-10-05T20:14:24.648519Z",
     "shell.execute_reply": "2024-10-05T20:14:24.647330Z"
    },
    "papermill": {
     "duration": 0.132644,
     "end_time": "2024-10-05T20:14:24.651087",
     "exception": false,
     "start_time": "2024-10-05T20:14:24.518443",
     "status": "completed"
    },
    "tags": []
   },
   "outputs": [
    {
     "data": {
      "text/html": [
       "<div>\n",
       "<style scoped>\n",
       "    .dataframe tbody tr th:only-of-type {\n",
       "        vertical-align: middle;\n",
       "    }\n",
       "\n",
       "    .dataframe tbody tr th {\n",
       "        vertical-align: top;\n",
       "    }\n",
       "\n",
       "    .dataframe thead th {\n",
       "        text-align: right;\n",
       "    }\n",
       "</style>\n",
       "<table border=\"1\" class=\"dataframe\">\n",
       "  <thead>\n",
       "    <tr style=\"text-align: right;\">\n",
       "      <th></th>\n",
       "      <th>DATE</th>\n",
       "      <th>STORE_NBR</th>\n",
       "      <th>LYLTY_CARD_NBR</th>\n",
       "      <th>TXN_ID</th>\n",
       "      <th>PROD_NBR</th>\n",
       "      <th>PROD_NAME</th>\n",
       "      <th>PROD_QTY</th>\n",
       "      <th>TOT_SALES</th>\n",
       "      <th>PACK_SIZE</th>\n",
       "      <th>BRAND</th>\n",
       "      <th>LIFESTAGE</th>\n",
       "      <th>PREMIUM_CUSTOMER</th>\n",
       "    </tr>\n",
       "  </thead>\n",
       "  <tbody>\n",
       "    <tr>\n",
       "      <th>0</th>\n",
       "      <td>43390</td>\n",
       "      <td>1</td>\n",
       "      <td>1000</td>\n",
       "      <td>1</td>\n",
       "      <td>5</td>\n",
       "      <td>Natural Chip        Compny SeaSalt175g</td>\n",
       "      <td>2</td>\n",
       "      <td>6.0</td>\n",
       "      <td>175</td>\n",
       "      <td>Natural</td>\n",
       "      <td>YOUNG SINGLES/COUPLES</td>\n",
       "      <td>Premium</td>\n",
       "    </tr>\n",
       "    <tr>\n",
       "      <th>1</th>\n",
       "      <td>43599</td>\n",
       "      <td>1</td>\n",
       "      <td>1307</td>\n",
       "      <td>348</td>\n",
       "      <td>66</td>\n",
       "      <td>CCs Nacho Cheese    175g</td>\n",
       "      <td>3</td>\n",
       "      <td>6.3</td>\n",
       "      <td>175</td>\n",
       "      <td>CCs</td>\n",
       "      <td>MIDAGE SINGLES/COUPLES</td>\n",
       "      <td>Budget</td>\n",
       "    </tr>\n",
       "    <tr>\n",
       "      <th>2</th>\n",
       "      <td>43605</td>\n",
       "      <td>1</td>\n",
       "      <td>1343</td>\n",
       "      <td>383</td>\n",
       "      <td>61</td>\n",
       "      <td>Smiths Crinkle Cut  Chips Chicken 170g</td>\n",
       "      <td>2</td>\n",
       "      <td>2.9</td>\n",
       "      <td>170</td>\n",
       "      <td>Smiths</td>\n",
       "      <td>MIDAGE SINGLES/COUPLES</td>\n",
       "      <td>Budget</td>\n",
       "    </tr>\n",
       "    <tr>\n",
       "      <th>3</th>\n",
       "      <td>43329</td>\n",
       "      <td>2</td>\n",
       "      <td>2373</td>\n",
       "      <td>974</td>\n",
       "      <td>69</td>\n",
       "      <td>Smiths Chip Thinly  S/Cream&amp;Onion 175g</td>\n",
       "      <td>5</td>\n",
       "      <td>15.0</td>\n",
       "      <td>175</td>\n",
       "      <td>Smiths</td>\n",
       "      <td>MIDAGE SINGLES/COUPLES</td>\n",
       "      <td>Budget</td>\n",
       "    </tr>\n",
       "    <tr>\n",
       "      <th>4</th>\n",
       "      <td>43330</td>\n",
       "      <td>2</td>\n",
       "      <td>2426</td>\n",
       "      <td>1038</td>\n",
       "      <td>108</td>\n",
       "      <td>Kettle Tortilla ChpsHny&amp;Jlpno Chili 150g</td>\n",
       "      <td>3</td>\n",
       "      <td>13.8</td>\n",
       "      <td>150</td>\n",
       "      <td>Kettle</td>\n",
       "      <td>MIDAGE SINGLES/COUPLES</td>\n",
       "      <td>Budget</td>\n",
       "    </tr>\n",
       "  </tbody>\n",
       "</table>\n",
       "</div>"
      ],
      "text/plain": [
       "    DATE  STORE_NBR  LYLTY_CARD_NBR  TXN_ID  PROD_NBR  \\\n",
       "0  43390          1            1000       1         5   \n",
       "1  43599          1            1307     348        66   \n",
       "2  43605          1            1343     383        61   \n",
       "3  43329          2            2373     974        69   \n",
       "4  43330          2            2426    1038       108   \n",
       "\n",
       "                                  PROD_NAME  PROD_QTY  TOT_SALES  PACK_SIZE  \\\n",
       "0    Natural Chip        Compny SeaSalt175g         2        6.0        175   \n",
       "1                  CCs Nacho Cheese    175g         3        6.3        175   \n",
       "2    Smiths Crinkle Cut  Chips Chicken 170g         2        2.9        170   \n",
       "3    Smiths Chip Thinly  S/Cream&Onion 175g         5       15.0        175   \n",
       "4  Kettle Tortilla ChpsHny&Jlpno Chili 150g         3       13.8        150   \n",
       "\n",
       "     BRAND               LIFESTAGE PREMIUM_CUSTOMER  \n",
       "0  Natural   YOUNG SINGLES/COUPLES          Premium  \n",
       "1      CCs  MIDAGE SINGLES/COUPLES           Budget  \n",
       "2   Smiths  MIDAGE SINGLES/COUPLES           Budget  \n",
       "3   Smiths  MIDAGE SINGLES/COUPLES           Budget  \n",
       "4   Kettle  MIDAGE SINGLES/COUPLES           Budget  "
      ]
     },
     "execution_count": 18,
     "metadata": {},
     "output_type": "execute_result"
    }
   ],
   "source": [
    "# Merging the datasets on 'LYLTY_CARD_NBR'\n",
    "merged_data = pd.merge(transaction_data_clean, customerData, on='LYLTY_CARD_NBR')\n",
    "merged_data.head()"
   ]
  },
  {
   "cell_type": "code",
   "execution_count": 19,
   "id": "1f8dcdf7",
   "metadata": {
    "execution": {
     "iopub.execute_input": "2024-10-05T20:14:24.670342Z",
     "iopub.status.busy": "2024-10-05T20:14:24.669940Z",
     "iopub.status.idle": "2024-10-05T20:14:25.275449Z",
     "shell.execute_reply": "2024-10-05T20:14:25.274174Z"
    },
    "papermill": {
     "duration": 0.617831,
     "end_time": "2024-10-05T20:14:25.277836",
     "exception": false,
     "start_time": "2024-10-05T20:14:24.660005",
     "status": "completed"
    },
    "tags": []
   },
   "outputs": [
    {
     "name": "stdout",
     "output_type": "stream",
     "text": [
      "                 LIFESTAGE PREMIUM_CUSTOMER  total_sales  num_transactions\n",
      "6           OLDER FAMILIES           Budget    168363.25             23160\n",
      "19   YOUNG SINGLES/COUPLES       Mainstream    157621.60             20854\n",
      "13                RETIREES       Mainstream    155677.05             21466\n",
      "15          YOUNG FAMILIES           Budget    139345.85             19122\n",
      "9    OLDER SINGLES/COUPLES           Budget    136769.80             18407\n",
      "10   OLDER SINGLES/COUPLES       Mainstream    133393.80             18318\n",
      "11   OLDER SINGLES/COUPLES          Premium    132257.15             17753\n",
      "12                RETIREES           Budget    113147.80             15201\n",
      "7           OLDER FAMILIES       Mainstream    103445.55             14244\n",
      "14                RETIREES          Premium     97646.05             13096\n",
      "16          YOUNG FAMILIES       Mainstream     92788.75             12907\n",
      "1   MIDAGE SINGLES/COUPLES       Mainstream     90803.85             11874\n",
      "17          YOUNG FAMILIES          Premium     84025.50             11563\n",
      "8           OLDER FAMILIES          Premium     80658.40             11190\n",
      "18   YOUNG SINGLES/COUPLES           Budget     61141.60              9242\n",
      "2   MIDAGE SINGLES/COUPLES          Premium     58432.65              8216\n",
      "20   YOUNG SINGLES/COUPLES          Premium     41642.10              6281\n",
      "0   MIDAGE SINGLES/COUPLES           Budget     35514.80              5020\n",
      "3             NEW FAMILIES           Budget     21928.45              3005\n",
      "4             NEW FAMILIES       Mainstream     17013.90              2325\n",
      "5             NEW FAMILIES          Premium     11491.10              1589\n"
     ]
    },
    {
     "data": {
      "image/png": "[encoded data removed]",
      "text/plain": [
       "<Figure size 1200x600 with 1 Axes>"
      ]
     },
     "metadata": {},
     "output_type": "display_data"
    }
   ],
   "source": [
    "# Analysis on customer segments and purchasing behavior\n",
    "# Grouping data by LIFESTAGE and PREMIUM_CUSTOMER to calculate total sales, pack sizes, and transaction frequency.\n",
    "    # 1. Analysis of Total Sales by Customer Segments\n",
    "    # 2. Average spend per transaction\n",
    "    # 3. Pack Size Analysis\n",
    "    # 4. Brand Preferences\n",
    "\n",
    "import matplotlib.pyplot as plt\n",
    "import seaborn as sns\n",
    "\n",
    "# Calculate total sales by LIFESTAGE and PREMIUM_CUSTOMER\n",
    "sales_by_segment = merged_data.groupby(['LIFESTAGE', 'PREMIUM_CUSTOMER']).agg(\n",
    "    total_sales=('TOT_SALES', 'sum'),\n",
    "    num_transactions=('TXN_ID', 'count')\n",
    ").reset_index()\n",
    "\n",
    "# Sort by total sales for better visualization\n",
    "sales_by_segment = sales_by_segment.sort_values('total_sales', ascending=False)\n",
    "\n",
    "# Display the result\n",
    "print(sales_by_segment)\n",
    "\n",
    "# Bar plot for total sales by customer segments\n",
    "plt.figure(figsize=(12, 6))\n",
    "sns.barplot(x='LIFESTAGE', y='total_sales', hue='PREMIUM_CUSTOMER', data=sales_by_segment)\n",
    "plt.title('1. Analysis of Total Sales by Customer Segments')\n",
    "plt.xticks(rotation=45)\n",
    "plt.ylabel('Total Sales')\n",
    "plt.xlabel('Lifestage')\n",
    "plt.tight_layout()\n",
    "plt.show()"
   ]
  },
  {
   "cell_type": "code",
   "execution_count": 20,
   "id": "d04813bd",
   "metadata": {
    "execution": {
     "iopub.execute_input": "2024-10-05T20:14:25.301168Z",
     "iopub.status.busy": "2024-10-05T20:14:25.299651Z",
     "iopub.status.idle": "2024-10-05T20:14:25.911609Z",
     "shell.execute_reply": "2024-10-05T20:14:25.910412Z"
    },
    "papermill": {
     "duration": 0.625894,
     "end_time": "2024-10-05T20:14:25.913939",
     "exception": false,
     "start_time": "2024-10-05T20:14:25.288045",
     "status": "completed"
    },
    "tags": []
   },
   "outputs": [
    {
     "name": "stdout",
     "output_type": "stream",
     "text": [
      "                 LIFESTAGE PREMIUM_CUSTOMER  avg_spend\n",
      "0   MIDAGE SINGLES/COUPLES           Budget   7.074661\n",
      "1   MIDAGE SINGLES/COUPLES       Mainstream   7.647284\n",
      "2   MIDAGE SINGLES/COUPLES          Premium   7.112056\n",
      "3             NEW FAMILIES           Budget   7.297321\n",
      "4             NEW FAMILIES       Mainstream   7.317806\n",
      "5             NEW FAMILIES          Premium   7.231655\n",
      "6           OLDER FAMILIES           Budget   7.269570\n",
      "7           OLDER FAMILIES       Mainstream   7.262395\n",
      "8           OLDER FAMILIES          Premium   7.208079\n",
      "9    OLDER SINGLES/COUPLES           Budget   7.430315\n",
      "10   OLDER SINGLES/COUPLES       Mainstream   7.282116\n",
      "11   OLDER SINGLES/COUPLES          Premium   7.449848\n",
      "12                RETIREES           Budget   7.443445\n",
      "13                RETIREES       Mainstream   7.252262\n",
      "14                RETIREES          Premium   7.456174\n",
      "15          YOUNG FAMILIES           Budget   7.287201\n",
      "16          YOUNG FAMILIES       Mainstream   7.189025\n",
      "17          YOUNG FAMILIES          Premium   7.266756\n",
      "18   YOUNG SINGLES/COUPLES           Budget   6.615624\n",
      "19   YOUNG SINGLES/COUPLES       Mainstream   7.558339\n",
      "20   YOUNG SINGLES/COUPLES          Premium   6.629852\n"
     ]
    },
    {
     "data": {
      "image/png": "[encoded data removed]",
      "text/plain": [
       "<Figure size 1200x600 with 1 Axes>"
      ]
     },
     "metadata": {},
     "output_type": "display_data"
    }
   ],
   "source": [
    "# 2. Average spend per transaction by LIFESTAGE and PREMIUM_CUSTOMER\n",
    "avg_spend_by_segment = merged_data.groupby(['LIFESTAGE', 'PREMIUM_CUSTOMER']).agg(\n",
    "    avg_spend=('TOT_SALES', 'mean')\n",
    ").reset_index()\n",
    "\n",
    "# Display the result\n",
    "print(avg_spend_by_segment)\n",
    "\n",
    "# Bar plot for average spend per transaction by customer segments\n",
    "plt.figure(figsize=(12, 6))\n",
    "sns.barplot(x='LIFESTAGE', y='avg_spend', hue='PREMIUM_CUSTOMER', data=avg_spend_by_segment)\n",
    "plt.title('Average Spend per Transaction by Customer Segments')\n",
    "plt.xticks(rotation=45)\n",
    "plt.ylabel('Average Spend')\n",
    "plt.xlabel('Lifestage')\n",
    "plt.tight_layout()\n",
    "plt.show()\n"
   ]
  },
  {
   "cell_type": "code",
   "execution_count": 21,
   "id": "364cd4d9",
   "metadata": {
    "execution": {
     "iopub.execute_input": "2024-10-05T20:14:25.938327Z",
     "iopub.status.busy": "2024-10-05T20:14:25.937901Z",
     "iopub.status.idle": "2024-10-05T20:14:26.573106Z",
     "shell.execute_reply": "2024-10-05T20:14:26.571984Z"
    },
    "papermill": {
     "duration": 0.650246,
     "end_time": "2024-10-05T20:14:26.575482",
     "exception": false,
     "start_time": "2024-10-05T20:14:25.925236",
     "status": "completed"
    },
    "tags": []
   },
   "outputs": [
    {
     "name": "stdout",
     "output_type": "stream",
     "text": [
      "                 LIFESTAGE PREMIUM_CUSTOMER  avg_pack_size\n",
      "0   MIDAGE SINGLES/COUPLES           Budget     180.187450\n",
      "1   MIDAGE SINGLES/COUPLES       Mainstream     184.582786\n",
      "2   MIDAGE SINGLES/COUPLES          Premium     181.577897\n",
      "3             NEW FAMILIES           Budget     181.161730\n",
      "4             NEW FAMILIES       Mainstream     181.699355\n",
      "5             NEW FAMILIES          Premium     181.286973\n",
      "6           OLDER FAMILIES           Budget     182.487219\n",
      "7           OLDER FAMILIES       Mainstream     182.175021\n",
      "8           OLDER FAMILIES          Premium     181.432618\n",
      "9    OLDER SINGLES/COUPLES           Budget     182.289183\n",
      "10   OLDER SINGLES/COUPLES       Mainstream     181.642101\n",
      "11   OLDER SINGLES/COUPLES          Premium     183.254999\n",
      "12                RETIREES           Budget     182.960200\n",
      "13                RETIREES       Mainstream     182.289062\n",
      "14                RETIREES          Premium     182.975260\n",
      "15          YOUNG FAMILIES           Budget     182.490901\n",
      "16          YOUNG FAMILIES       Mainstream     181.536531\n",
      "17          YOUNG FAMILIES          Premium     181.351985\n",
      "18   YOUNG SINGLES/COUPLES           Budget     180.694438\n",
      "19   YOUNG SINGLES/COUPLES       Mainstream     184.828330\n",
      "20   YOUNG SINGLES/COUPLES          Premium     181.056042\n"
     ]
    },
    {
     "data": {
      "image/png": "[encoded data removed]",
      "text/plain": [
       "<Figure size 1200x600 with 1 Axes>"
      ]
     },
     "metadata": {},
     "output_type": "display_data"
    }
   ],
   "source": [
    "# Average pack size by LIFESTAGE and PREMIUM_CUSTOMER\n",
    "avg_pack_size_by_segment = merged_data.groupby(['LIFESTAGE', 'PREMIUM_CUSTOMER']).agg(\n",
    "    avg_pack_size=('PACK_SIZE', 'mean')\n",
    ").reset_index()\n",
    "\n",
    "# Display the result\n",
    "print(avg_pack_size_by_segment)\n",
    "\n",
    "# Bar plot for average pack size by customer segments\n",
    "plt.figure(figsize=(12, 6))\n",
    "sns.barplot(x='LIFESTAGE', y='avg_pack_size', hue='PREMIUM_CUSTOMER', data=avg_pack_size_by_segment)\n",
    "plt.title('Average Pack Size by Customer Segments')\n",
    "plt.xticks(rotation=45)\n",
    "plt.ylabel('Average Pack Size (g)')\n",
    "plt.xlabel('Lifestage')\n",
    "plt.tight_layout()\n",
    "plt.show()\n"
   ]
  },
  {
   "cell_type": "code",
   "execution_count": 22,
   "id": "ebe32719",
   "metadata": {
    "execution": {
     "iopub.execute_input": "2024-10-05T20:14:26.602717Z",
     "iopub.status.busy": "2024-10-05T20:14:26.602338Z",
     "iopub.status.idle": "2024-10-05T20:14:28.136088Z",
     "shell.execute_reply": "2024-10-05T20:14:28.134899Z"
    },
    "papermill": {
     "duration": 1.550444,
     "end_time": "2024-10-05T20:14:28.138582",
     "exception": false,
     "start_time": "2024-10-05T20:14:26.588138",
     "status": "completed"
    },
    "tags": []
   },
   "outputs": [
    {
     "name": "stdout",
     "output_type": "stream",
     "text": [
      "                 LIFESTAGE PREMIUM_CUSTOMER     BRAND  total_sales\n",
      "563  YOUNG SINGLES/COUPLES       Mainstream    Kettle      35423.6\n",
      "186         OLDER FAMILIES           Budget    Kettle      32058.0\n",
      "389               RETIREES       Mainstream    Kettle      31652.4\n",
      "273  OLDER SINGLES/COUPLES           Budget    Kettle      29066.4\n",
      "331  OLDER SINGLES/COUPLES          Premium    Kettle      27943.4\n",
      "..                     ...              ...       ...          ...\n",
      "161           NEW FAMILIES          Premium  Pringles       1172.9\n",
      "165           NEW FAMILIES          Premium    Smiths       1159.9\n",
      "110           NEW FAMILIES           Budget     Thins       1085.7\n",
      "131           NEW FAMILIES       Mainstream       Old        805.8\n",
      "169           NEW FAMILIES          Premium  Tostitos        545.6\n",
      "\n",
      "[105 rows x 4 columns]\n"
     ]
    },
    {
     "data": {
      "image/png": "[encoded data removed]",
      "text/plain": [
       "<Figure size 1200x600 with 1 Axes>"
      ]
     },
     "metadata": {},
     "output_type": "display_data"
    }
   ],
   "source": [
    "# Calculatng the top 5 most popular brands by sales in each customer segment\n",
    "top_brands_by_segment = merged_data.groupby(['LIFESTAGE', 'PREMIUM_CUSTOMER', 'BRAND']).agg(\n",
    "    total_sales=('TOT_SALES', 'sum')\n",
    ").reset_index()\n",
    "\n",
    "# Sort by total sales and get top 5 brands per segment\n",
    "top_brands_by_segment = top_brands_by_segment.sort_values('total_sales', ascending=False).groupby(\n",
    "    ['LIFESTAGE', 'PREMIUM_CUSTOMER']).head(5)\n",
    "\n",
    "# Display the result\n",
    "print(top_brands_by_segment)\n",
    "\n",
    "# Bar plot for brand preferences by customer segments\n",
    "plt.figure(figsize=(12, 6))\n",
    "sns.barplot(x='BRAND', y='total_sales', hue='LIFESTAGE', data=top_brands_by_segment)\n",
    "plt.title('Top 5 Brands by Customer Segments')\n",
    "plt.xticks(rotation=45)\n",
    "plt.ylabel('Total Sales')\n",
    "plt.xlabel('Brand')\n",
    "plt.tight_layout()\n",
    "plt.show()"
   ]
  }
 ],
 "metadata": {
  "kaggle": {
   "accelerator": "none",
   "dataSources": [
    {
     "datasetId": 5818142,
     "sourceId": 9549197,
     "sourceType": "datasetVersion"
    }
   ],
   "dockerImageVersionId": 30786,
   "isGpuEnabled": false,
   "isInternetEnabled": true,
   "language": "python",
   "sourceType": "notebook"
  },
  "kernelspec": {
   "display_name": "Python 3",
   "language": "python",
   "name": "python3"
  },
  "language_info": {
   "codemirror_mode": {
    "name": "ipython",
    "version": 3
   },
   "file_extension": ".py",
   "mimetype": "text/x-python",
   "name": "python",
   "nbconvert_exporter": "python",
   "pygments_lexer": "ipython3",
   "version": "3.10.14"
  },
  "papermill": {
   "default_parameters": {},
   "duration": 12.049409,
   "end_time": "2024-10-05T20:14:28.773279",
   "environment_variables": {},
   "exception": null,
   "input_path": "__notebook__.ipynb",
   "output_path": "__notebook__.ipynb",
   "parameters": {},
   "start_time": "2024-10-05T20:14:16.723870",
   "version": "2.6.0"
  }
 },
 "nbformat": 4,
 "nbformat_minor": 5
}
